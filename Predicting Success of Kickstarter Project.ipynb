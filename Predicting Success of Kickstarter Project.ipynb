{
 "cells": [
  {
   "cell_type": "markdown",
   "id": "d6efd226",
   "metadata": {},
   "source": [
    "# Crowdfunding: Predicting Kickstarter Project Success"
   ]
  },
  {
   "cell_type": "markdown",
   "id": "303a73d5",
   "metadata": {},
   "source": [
    "#pip\n",
    "!pip install numpy\n",
    "!pip install pandas\n",
    "!pip install matplotlib\n",
    "!pip install seaborn\n",
    "!pip install warnings\n",
    "!pip install scikit-learn"
   ]
  },
  {
   "cell_type": "code",
   "execution_count": 1,
   "id": "d598ee2a",
   "metadata": {},
   "outputs": [
    {
     "name": "stdout",
     "output_type": "stream",
     "text": [
      "Modules imported successfully!\n"
     ]
    }
   ],
   "source": [
    "#Import Modules\n",
    "import pandas as pd\n",
    "import numpy as np\n",
    "import matplotlib.pyplot as plt\n",
    "import seaborn as sns\n",
    "import warnings\n",
    "%matplotlib inline\n",
    "warnings.filterwarnings('ignore')\n",
    "print(\"Modules imported successfully!\")"
   ]
  },
  {
   "cell_type": "code",
   "execution_count": 2,
   "id": "7964a914",
   "metadata": {},
   "outputs": [
    {
     "name": "stdout",
     "output_type": "stream",
     "text": [
      "Dataset loaded successfully!\n"
     ]
    }
   ],
   "source": [
    "#Load the dataset and check its shape\n",
    "df = pd.read_csv('kickstarter_Cpgn.csv')\n",
    "print(\"Dataset loaded successfully!\")"
   ]
  },
  {
   "cell_type": "code",
   "execution_count": 3,
   "id": "7a6e7bed",
   "metadata": {},
   "outputs": [],
   "source": [
    "#To select a subset of the data\n",
    "df=df[:1000]"
   ]
  },
  {
   "cell_type": "code",
   "execution_count": 4,
   "id": "bc88e0de",
   "metadata": {},
   "outputs": [
    {
     "name": "stdout",
     "output_type": "stream",
     "text": [
      "No. of Rows: 1000\n",
      "No. of Columns: 15\n",
      "Shape:  (1000, 15)\n"
     ]
    }
   ],
   "source": [
    "#Check no. of Rows and Columns\n",
    "print(\"No. of Rows:\", df.shape[0])\n",
    "print(\"No. of Columns:\", df.shape[1])\n",
    "print(\"Shape: \",df.shape)"
   ]
  },
  {
   "cell_type": "code",
   "execution_count": 5,
   "id": "478efb24",
   "metadata": {},
   "outputs": [
    {
     "data": {
      "text/html": [
       "<div>\n",
       "<style scoped>\n",
       "    .dataframe tbody tr th:only-of-type {\n",
       "        vertical-align: middle;\n",
       "    }\n",
       "\n",
       "    .dataframe tbody tr th {\n",
       "        vertical-align: top;\n",
       "    }\n",
       "\n",
       "    .dataframe thead th {\n",
       "        text-align: right;\n",
       "    }\n",
       "</style>\n",
       "<table border=\"1\" class=\"dataframe\">\n",
       "  <thead>\n",
       "    <tr style=\"text-align: right;\">\n",
       "      <th></th>\n",
       "      <th>ID</th>\n",
       "      <th>name</th>\n",
       "      <th>category</th>\n",
       "      <th>main_category</th>\n",
       "      <th>currency</th>\n",
       "      <th>deadline</th>\n",
       "      <th>goal</th>\n",
       "      <th>launched</th>\n",
       "      <th>pledged</th>\n",
       "      <th>state</th>\n",
       "      <th>backers</th>\n",
       "      <th>country</th>\n",
       "      <th>usd pledged</th>\n",
       "      <th>usd_pledged_real</th>\n",
       "      <th>usd_goal_real</th>\n",
       "    </tr>\n",
       "  </thead>\n",
       "  <tbody>\n",
       "    <tr>\n",
       "      <th>0</th>\n",
       "      <td>1000002330</td>\n",
       "      <td>The Songs of Adelaide &amp; Abullah</td>\n",
       "      <td>Poetry</td>\n",
       "      <td>Publishing</td>\n",
       "      <td>GBP</td>\n",
       "      <td>2015-10-09</td>\n",
       "      <td>1000.0</td>\n",
       "      <td>2015-08-11 12:12:28</td>\n",
       "      <td>0.0</td>\n",
       "      <td>failed</td>\n",
       "      <td>0</td>\n",
       "      <td>GB</td>\n",
       "      <td>0.0</td>\n",
       "      <td>0.0</td>\n",
       "      <td>1533.95</td>\n",
       "    </tr>\n",
       "    <tr>\n",
       "      <th>1</th>\n",
       "      <td>1000003930</td>\n",
       "      <td>Greeting From Earth: ZGAC Arts Capsule For ET</td>\n",
       "      <td>Narrative Film</td>\n",
       "      <td>Film &amp; Video</td>\n",
       "      <td>USD</td>\n",
       "      <td>2017-11-01</td>\n",
       "      <td>30000.0</td>\n",
       "      <td>2017-09-02 04:43:57</td>\n",
       "      <td>2421.0</td>\n",
       "      <td>failed</td>\n",
       "      <td>15</td>\n",
       "      <td>US</td>\n",
       "      <td>100.0</td>\n",
       "      <td>2421.0</td>\n",
       "      <td>30000.00</td>\n",
       "    </tr>\n",
       "    <tr>\n",
       "      <th>2</th>\n",
       "      <td>1000004038</td>\n",
       "      <td>Where is Hank?</td>\n",
       "      <td>Narrative Film</td>\n",
       "      <td>Film &amp; Video</td>\n",
       "      <td>USD</td>\n",
       "      <td>2013-02-26</td>\n",
       "      <td>45000.0</td>\n",
       "      <td>2013-01-12 00:20:50</td>\n",
       "      <td>220.0</td>\n",
       "      <td>failed</td>\n",
       "      <td>3</td>\n",
       "      <td>US</td>\n",
       "      <td>220.0</td>\n",
       "      <td>220.0</td>\n",
       "      <td>45000.00</td>\n",
       "    </tr>\n",
       "    <tr>\n",
       "      <th>3</th>\n",
       "      <td>1000007540</td>\n",
       "      <td>ToshiCapital Rekordz Needs Help to Complete Album</td>\n",
       "      <td>Music</td>\n",
       "      <td>Music</td>\n",
       "      <td>USD</td>\n",
       "      <td>2012-04-16</td>\n",
       "      <td>5000.0</td>\n",
       "      <td>2012-03-17 03:24:11</td>\n",
       "      <td>1.0</td>\n",
       "      <td>failed</td>\n",
       "      <td>1</td>\n",
       "      <td>US</td>\n",
       "      <td>1.0</td>\n",
       "      <td>1.0</td>\n",
       "      <td>5000.00</td>\n",
       "    </tr>\n",
       "    <tr>\n",
       "      <th>4</th>\n",
       "      <td>1000011046</td>\n",
       "      <td>Community Film Project: The Art of Neighborhoo...</td>\n",
       "      <td>Film &amp; Video</td>\n",
       "      <td>Film &amp; Video</td>\n",
       "      <td>USD</td>\n",
       "      <td>2015-08-29</td>\n",
       "      <td>19500.0</td>\n",
       "      <td>2015-07-04 08:35:03</td>\n",
       "      <td>1283.0</td>\n",
       "      <td>canceled</td>\n",
       "      <td>14</td>\n",
       "      <td>US</td>\n",
       "      <td>1283.0</td>\n",
       "      <td>1283.0</td>\n",
       "      <td>19500.00</td>\n",
       "    </tr>\n",
       "  </tbody>\n",
       "</table>\n",
       "</div>"
      ],
      "text/plain": [
       "           ID                                               name  \\\n",
       "0  1000002330                    The Songs of Adelaide & Abullah   \n",
       "1  1000003930      Greeting From Earth: ZGAC Arts Capsule For ET   \n",
       "2  1000004038                                     Where is Hank?   \n",
       "3  1000007540  ToshiCapital Rekordz Needs Help to Complete Album   \n",
       "4  1000011046  Community Film Project: The Art of Neighborhoo...   \n",
       "\n",
       "         category main_category currency    deadline     goal  \\\n",
       "0          Poetry    Publishing      GBP  2015-10-09   1000.0   \n",
       "1  Narrative Film  Film & Video      USD  2017-11-01  30000.0   \n",
       "2  Narrative Film  Film & Video      USD  2013-02-26  45000.0   \n",
       "3           Music         Music      USD  2012-04-16   5000.0   \n",
       "4    Film & Video  Film & Video      USD  2015-08-29  19500.0   \n",
       "\n",
       "              launched  pledged     state  backers country  usd pledged  \\\n",
       "0  2015-08-11 12:12:28      0.0    failed        0      GB          0.0   \n",
       "1  2017-09-02 04:43:57   2421.0    failed       15      US        100.0   \n",
       "2  2013-01-12 00:20:50    220.0    failed        3      US        220.0   \n",
       "3  2012-03-17 03:24:11      1.0    failed        1      US          1.0   \n",
       "4  2015-07-04 08:35:03   1283.0  canceled       14      US       1283.0   \n",
       "\n",
       "   usd_pledged_real  usd_goal_real  \n",
       "0               0.0        1533.95  \n",
       "1            2421.0       30000.00  \n",
       "2             220.0       45000.00  \n",
       "3               1.0        5000.00  \n",
       "4            1283.0       19500.00  "
      ]
     },
     "execution_count": 5,
     "metadata": {},
     "output_type": "execute_result"
    }
   ],
   "source": [
    "#First 5 rows\n",
    "df.head()"
   ]
  },
  {
   "cell_type": "code",
   "execution_count": 6,
   "id": "85cfbcad",
   "metadata": {},
   "outputs": [
    {
     "data": {
      "text/html": [
       "<div>\n",
       "<style scoped>\n",
       "    .dataframe tbody tr th:only-of-type {\n",
       "        vertical-align: middle;\n",
       "    }\n",
       "\n",
       "    .dataframe tbody tr th {\n",
       "        vertical-align: top;\n",
       "    }\n",
       "\n",
       "    .dataframe thead th {\n",
       "        text-align: right;\n",
       "    }\n",
       "</style>\n",
       "<table border=\"1\" class=\"dataframe\">\n",
       "  <thead>\n",
       "    <tr style=\"text-align: right;\">\n",
       "      <th></th>\n",
       "      <th>ID</th>\n",
       "      <th>name</th>\n",
       "      <th>category</th>\n",
       "      <th>main_category</th>\n",
       "      <th>currency</th>\n",
       "      <th>deadline</th>\n",
       "      <th>goal</th>\n",
       "      <th>launched</th>\n",
       "      <th>pledged</th>\n",
       "      <th>state</th>\n",
       "      <th>backers</th>\n",
       "      <th>country</th>\n",
       "      <th>usd pledged</th>\n",
       "      <th>usd_pledged_real</th>\n",
       "      <th>usd_goal_real</th>\n",
       "    </tr>\n",
       "  </thead>\n",
       "  <tbody>\n",
       "    <tr>\n",
       "      <th>995</th>\n",
       "      <td>1005037455</td>\n",
       "      <td>Read The Bible in 1 Year Card System</td>\n",
       "      <td>Nonfiction</td>\n",
       "      <td>Publishing</td>\n",
       "      <td>USD</td>\n",
       "      <td>2013-08-31</td>\n",
       "      <td>4500.0</td>\n",
       "      <td>2013-08-02 21:29:59</td>\n",
       "      <td>145.0</td>\n",
       "      <td>failed</td>\n",
       "      <td>11</td>\n",
       "      <td>US</td>\n",
       "      <td>145.0</td>\n",
       "      <td>145.0</td>\n",
       "      <td>4500.0</td>\n",
       "    </tr>\n",
       "    <tr>\n",
       "      <th>996</th>\n",
       "      <td>1005040851</td>\n",
       "      <td>Rob Wiley Custom Leatherwork</td>\n",
       "      <td>Fashion</td>\n",
       "      <td>Fashion</td>\n",
       "      <td>USD</td>\n",
       "      <td>2015-04-27</td>\n",
       "      <td>20000.0</td>\n",
       "      <td>2015-03-28 02:47:24</td>\n",
       "      <td>540.0</td>\n",
       "      <td>failed</td>\n",
       "      <td>4</td>\n",
       "      <td>US</td>\n",
       "      <td>540.0</td>\n",
       "      <td>540.0</td>\n",
       "      <td>20000.0</td>\n",
       "    </tr>\n",
       "    <tr>\n",
       "      <th>997</th>\n",
       "      <td>1005044737</td>\n",
       "      <td>Entropy: Lovecraftian horror meets sci-fy</td>\n",
       "      <td>Webcomics</td>\n",
       "      <td>Comics</td>\n",
       "      <td>USD</td>\n",
       "      <td>2017-12-16</td>\n",
       "      <td>4500.0</td>\n",
       "      <td>2017-11-11 22:51:02</td>\n",
       "      <td>305.0</td>\n",
       "      <td>canceled</td>\n",
       "      <td>10</td>\n",
       "      <td>US</td>\n",
       "      <td>195.0</td>\n",
       "      <td>305.0</td>\n",
       "      <td>4500.0</td>\n",
       "    </tr>\n",
       "    <tr>\n",
       "      <th>998</th>\n",
       "      <td>1005051188</td>\n",
       "      <td>N3ON LOVE official launch</td>\n",
       "      <td>Video Games</td>\n",
       "      <td>Games</td>\n",
       "      <td>USD</td>\n",
       "      <td>2016-03-03</td>\n",
       "      <td>450.0</td>\n",
       "      <td>2016-02-01 08:26:12</td>\n",
       "      <td>115.0</td>\n",
       "      <td>failed</td>\n",
       "      <td>4</td>\n",
       "      <td>US</td>\n",
       "      <td>115.0</td>\n",
       "      <td>115.0</td>\n",
       "      <td>450.0</td>\n",
       "    </tr>\n",
       "    <tr>\n",
       "      <th>999</th>\n",
       "      <td>1005053619</td>\n",
       "      <td>Famous Paintings - a tribute to another art fo...</td>\n",
       "      <td>Photography</td>\n",
       "      <td>Photography</td>\n",
       "      <td>USD</td>\n",
       "      <td>2012-06-01</td>\n",
       "      <td>10000.0</td>\n",
       "      <td>2012-04-02 22:30:20</td>\n",
       "      <td>0.0</td>\n",
       "      <td>canceled</td>\n",
       "      <td>0</td>\n",
       "      <td>US</td>\n",
       "      <td>0.0</td>\n",
       "      <td>0.0</td>\n",
       "      <td>10000.0</td>\n",
       "    </tr>\n",
       "  </tbody>\n",
       "</table>\n",
       "</div>"
      ],
      "text/plain": [
       "             ID                                               name  \\\n",
       "995  1005037455               Read The Bible in 1 Year Card System   \n",
       "996  1005040851                       Rob Wiley Custom Leatherwork   \n",
       "997  1005044737          Entropy: Lovecraftian horror meets sci-fy   \n",
       "998  1005051188                          N3ON LOVE official launch   \n",
       "999  1005053619  Famous Paintings - a tribute to another art fo...   \n",
       "\n",
       "        category main_category currency    deadline     goal  \\\n",
       "995   Nonfiction    Publishing      USD  2013-08-31   4500.0   \n",
       "996      Fashion       Fashion      USD  2015-04-27  20000.0   \n",
       "997    Webcomics        Comics      USD  2017-12-16   4500.0   \n",
       "998  Video Games         Games      USD  2016-03-03    450.0   \n",
       "999  Photography   Photography      USD  2012-06-01  10000.0   \n",
       "\n",
       "                launched  pledged     state  backers country  usd pledged  \\\n",
       "995  2013-08-02 21:29:59    145.0    failed       11      US        145.0   \n",
       "996  2015-03-28 02:47:24    540.0    failed        4      US        540.0   \n",
       "997  2017-11-11 22:51:02    305.0  canceled       10      US        195.0   \n",
       "998  2016-02-01 08:26:12    115.0    failed        4      US        115.0   \n",
       "999  2012-04-02 22:30:20      0.0  canceled        0      US          0.0   \n",
       "\n",
       "     usd_pledged_real  usd_goal_real  \n",
       "995             145.0         4500.0  \n",
       "996             540.0        20000.0  \n",
       "997             305.0         4500.0  \n",
       "998             115.0          450.0  \n",
       "999               0.0        10000.0  "
      ]
     },
     "execution_count": 6,
     "metadata": {},
     "output_type": "execute_result"
    }
   ],
   "source": [
    "#Last 5 rows\n",
    "df.tail()"
   ]
  },
  {
   "cell_type": "code",
   "execution_count": 7,
   "id": "cf5ffe39",
   "metadata": {},
   "outputs": [
    {
     "name": "stdout",
     "output_type": "stream",
     "text": [
      "<class 'pandas.core.frame.DataFrame'>\n",
      "RangeIndex: 1000 entries, 0 to 999\n",
      "Data columns (total 15 columns):\n",
      " #   Column            Non-Null Count  Dtype  \n",
      "---  ------            --------------  -----  \n",
      " 0   ID                1000 non-null   int64  \n",
      " 1   name              1000 non-null   object \n",
      " 2   category          1000 non-null   object \n",
      " 3   main_category     1000 non-null   object \n",
      " 4   currency          1000 non-null   object \n",
      " 5   deadline          1000 non-null   object \n",
      " 6   goal              1000 non-null   float64\n",
      " 7   launched          1000 non-null   object \n",
      " 8   pledged           1000 non-null   float64\n",
      " 9   state             1000 non-null   object \n",
      " 10  backers           1000 non-null   int64  \n",
      " 11  country           1000 non-null   object \n",
      " 12  usd pledged       990 non-null    float64\n",
      " 13  usd_pledged_real  1000 non-null   float64\n",
      " 14  usd_goal_real     1000 non-null   float64\n",
      "dtypes: float64(5), int64(2), object(8)\n",
      "memory usage: 117.3+ KB\n"
     ]
    }
   ],
   "source": [
    "#Checking the data type of features\n",
    "df.info()"
   ]
  },
  {
   "cell_type": "code",
   "execution_count": 8,
   "id": "81d30a91",
   "metadata": {},
   "outputs": [
    {
     "data": {
      "text/html": [
       "<div>\n",
       "<style scoped>\n",
       "    .dataframe tbody tr th:only-of-type {\n",
       "        vertical-align: middle;\n",
       "    }\n",
       "\n",
       "    .dataframe tbody tr th {\n",
       "        vertical-align: top;\n",
       "    }\n",
       "\n",
       "    .dataframe thead th {\n",
       "        text-align: right;\n",
       "    }\n",
       "</style>\n",
       "<table border=\"1\" class=\"dataframe\">\n",
       "  <thead>\n",
       "    <tr style=\"text-align: right;\">\n",
       "      <th></th>\n",
       "      <th>ID</th>\n",
       "      <th>goal</th>\n",
       "      <th>pledged</th>\n",
       "      <th>backers</th>\n",
       "      <th>usd pledged</th>\n",
       "      <th>usd_pledged_real</th>\n",
       "      <th>usd_goal_real</th>\n",
       "    </tr>\n",
       "  </thead>\n",
       "  <tbody>\n",
       "    <tr>\n",
       "      <th>count</th>\n",
       "      <td>1.000000e+03</td>\n",
       "      <td>1.000000e+03</td>\n",
       "      <td>1.000000e+03</td>\n",
       "      <td>1000.000000</td>\n",
       "      <td>990.000000</td>\n",
       "      <td>1.000000e+03</td>\n",
       "      <td>1.000000e+03</td>\n",
       "    </tr>\n",
       "    <tr>\n",
       "      <th>mean</th>\n",
       "      <td>9.136173e+08</td>\n",
       "      <td>2.748608e+04</td>\n",
       "      <td>1.663106e+04</td>\n",
       "      <td>123.652000</td>\n",
       "      <td>7672.090949</td>\n",
       "      <td>1.486029e+04</td>\n",
       "      <td>2.576125e+04</td>\n",
       "    </tr>\n",
       "    <tr>\n",
       "      <th>std</th>\n",
       "      <td>2.712023e+08</td>\n",
       "      <td>1.189795e+05</td>\n",
       "      <td>1.541350e+05</td>\n",
       "      <td>570.856078</td>\n",
       "      <td>39187.477159</td>\n",
       "      <td>1.469639e+05</td>\n",
       "      <td>1.182442e+05</td>\n",
       "    </tr>\n",
       "    <tr>\n",
       "      <th>min</th>\n",
       "      <td>1.003381e+06</td>\n",
       "      <td>1.000000e+00</td>\n",
       "      <td>0.000000e+00</td>\n",
       "      <td>0.000000</td>\n",
       "      <td>0.000000</td>\n",
       "      <td>0.000000e+00</td>\n",
       "      <td>9.100000e-01</td>\n",
       "    </tr>\n",
       "    <tr>\n",
       "      <th>25%</th>\n",
       "      <td>1.000684e+09</td>\n",
       "      <td>2.000000e+03</td>\n",
       "      <td>4.000000e+01</td>\n",
       "      <td>2.000000</td>\n",
       "      <td>18.225000</td>\n",
       "      <td>4.000000e+01</td>\n",
       "      <td>2.000000e+03</td>\n",
       "    </tr>\n",
       "    <tr>\n",
       "      <th>50%</th>\n",
       "      <td>1.002125e+09</td>\n",
       "      <td>5.000000e+03</td>\n",
       "      <td>8.555000e+02</td>\n",
       "      <td>16.000000</td>\n",
       "      <td>555.170000</td>\n",
       "      <td>8.529250e+02</td>\n",
       "      <td>5.000000e+03</td>\n",
       "    </tr>\n",
       "    <tr>\n",
       "      <th>75%</th>\n",
       "      <td>1.003504e+09</td>\n",
       "      <td>1.500000e+04</td>\n",
       "      <td>4.799500e+03</td>\n",
       "      <td>62.000000</td>\n",
       "      <td>3600.750000</td>\n",
       "      <td>4.641663e+03</td>\n",
       "      <td>1.500000e+04</td>\n",
       "    </tr>\n",
       "    <tr>\n",
       "      <th>max</th>\n",
       "      <td>1.005054e+09</td>\n",
       "      <td>2.000000e+06</td>\n",
       "      <td>4.236618e+06</td>\n",
       "      <td>12758.000000</td>\n",
       "      <td>843743.000000</td>\n",
       "      <td>4.236618e+06</td>\n",
       "      <td>2.673502e+06</td>\n",
       "    </tr>\n",
       "  </tbody>\n",
       "</table>\n",
       "</div>"
      ],
      "text/plain": [
       "                 ID          goal       pledged       backers    usd pledged  \\\n",
       "count  1.000000e+03  1.000000e+03  1.000000e+03   1000.000000     990.000000   \n",
       "mean   9.136173e+08  2.748608e+04  1.663106e+04    123.652000    7672.090949   \n",
       "std    2.712023e+08  1.189795e+05  1.541350e+05    570.856078   39187.477159   \n",
       "min    1.003381e+06  1.000000e+00  0.000000e+00      0.000000       0.000000   \n",
       "25%    1.000684e+09  2.000000e+03  4.000000e+01      2.000000      18.225000   \n",
       "50%    1.002125e+09  5.000000e+03  8.555000e+02     16.000000     555.170000   \n",
       "75%    1.003504e+09  1.500000e+04  4.799500e+03     62.000000    3600.750000   \n",
       "max    1.005054e+09  2.000000e+06  4.236618e+06  12758.000000  843743.000000   \n",
       "\n",
       "       usd_pledged_real  usd_goal_real  \n",
       "count      1.000000e+03   1.000000e+03  \n",
       "mean       1.486029e+04   2.576125e+04  \n",
       "std        1.469639e+05   1.182442e+05  \n",
       "min        0.000000e+00   9.100000e-01  \n",
       "25%        4.000000e+01   2.000000e+03  \n",
       "50%        8.529250e+02   5.000000e+03  \n",
       "75%        4.641663e+03   1.500000e+04  \n",
       "max        4.236618e+06   2.673502e+06  "
      ]
     },
     "execution_count": 8,
     "metadata": {},
     "output_type": "execute_result"
    }
   ],
   "source": [
    "#Stastical Info about Data\n",
    "df.describe()"
   ]
  },
  {
   "cell_type": "code",
   "execution_count": 9,
   "id": "1ef2064e",
   "metadata": {},
   "outputs": [
    {
     "data": {
      "text/plain": [
       "ID                  1000\n",
       "name                1000\n",
       "category             125\n",
       "main_category         15\n",
       "currency              12\n",
       "deadline             789\n",
       "goal                 189\n",
       "launched            1000\n",
       "pledged              689\n",
       "state                  6\n",
       "backers              238\n",
       "country               20\n",
       "usd pledged          707\n",
       "usd_pledged_real     745\n",
       "usd_goal_real        369\n",
       "dtype: int64"
      ]
     },
     "execution_count": 9,
     "metadata": {},
     "output_type": "execute_result"
    }
   ],
   "source": [
    "#No. of unique values in each feature\n",
    "df.apply(lambda x: len(x.unique()))"
   ]
  },
  {
   "cell_type": "code",
   "execution_count": 10,
   "id": "5e68a5b1",
   "metadata": {},
   "outputs": [
    {
     "data": {
      "text/plain": [
       "ID                   0\n",
       "name                 0\n",
       "category             0\n",
       "main_category        0\n",
       "currency             0\n",
       "deadline             0\n",
       "goal                 0\n",
       "launched             0\n",
       "pledged              0\n",
       "state                0\n",
       "backers              0\n",
       "country              0\n",
       "usd pledged         10\n",
       "usd_pledged_real     0\n",
       "usd_goal_real        0\n",
       "dtype: int64"
      ]
     },
     "execution_count": 10,
     "metadata": {},
     "output_type": "execute_result"
    }
   ],
   "source": [
    "#No. of null values in each feature\n",
    "df.isnull().sum()"
   ]
  },
  {
   "cell_type": "code",
   "execution_count": 11,
   "id": "6b7712b4",
   "metadata": {},
   "outputs": [
    {
     "data": {
      "text/html": [
       "<div>\n",
       "<style scoped>\n",
       "    .dataframe tbody tr th:only-of-type {\n",
       "        vertical-align: middle;\n",
       "    }\n",
       "\n",
       "    .dataframe tbody tr th {\n",
       "        vertical-align: top;\n",
       "    }\n",
       "\n",
       "    .dataframe thead th {\n",
       "        text-align: right;\n",
       "    }\n",
       "</style>\n",
       "<table border=\"1\" class=\"dataframe\">\n",
       "  <thead>\n",
       "    <tr style=\"text-align: right;\">\n",
       "      <th></th>\n",
       "      <th>column_name</th>\n",
       "      <th>percent_missing</th>\n",
       "    </tr>\n",
       "  </thead>\n",
       "  <tbody>\n",
       "    <tr>\n",
       "      <th>usd pledged</th>\n",
       "      <td>usd pledged</td>\n",
       "      <td>1.0</td>\n",
       "    </tr>\n",
       "    <tr>\n",
       "      <th>ID</th>\n",
       "      <td>ID</td>\n",
       "      <td>0.0</td>\n",
       "    </tr>\n",
       "    <tr>\n",
       "      <th>name</th>\n",
       "      <td>name</td>\n",
       "      <td>0.0</td>\n",
       "    </tr>\n",
       "    <tr>\n",
       "      <th>category</th>\n",
       "      <td>category</td>\n",
       "      <td>0.0</td>\n",
       "    </tr>\n",
       "    <tr>\n",
       "      <th>main_category</th>\n",
       "      <td>main_category</td>\n",
       "      <td>0.0</td>\n",
       "    </tr>\n",
       "    <tr>\n",
       "      <th>currency</th>\n",
       "      <td>currency</td>\n",
       "      <td>0.0</td>\n",
       "    </tr>\n",
       "    <tr>\n",
       "      <th>deadline</th>\n",
       "      <td>deadline</td>\n",
       "      <td>0.0</td>\n",
       "    </tr>\n",
       "    <tr>\n",
       "      <th>goal</th>\n",
       "      <td>goal</td>\n",
       "      <td>0.0</td>\n",
       "    </tr>\n",
       "    <tr>\n",
       "      <th>launched</th>\n",
       "      <td>launched</td>\n",
       "      <td>0.0</td>\n",
       "    </tr>\n",
       "    <tr>\n",
       "      <th>pledged</th>\n",
       "      <td>pledged</td>\n",
       "      <td>0.0</td>\n",
       "    </tr>\n",
       "    <tr>\n",
       "      <th>state</th>\n",
       "      <td>state</td>\n",
       "      <td>0.0</td>\n",
       "    </tr>\n",
       "    <tr>\n",
       "      <th>backers</th>\n",
       "      <td>backers</td>\n",
       "      <td>0.0</td>\n",
       "    </tr>\n",
       "    <tr>\n",
       "      <th>country</th>\n",
       "      <td>country</td>\n",
       "      <td>0.0</td>\n",
       "    </tr>\n",
       "    <tr>\n",
       "      <th>usd_pledged_real</th>\n",
       "      <td>usd_pledged_real</td>\n",
       "      <td>0.0</td>\n",
       "    </tr>\n",
       "    <tr>\n",
       "      <th>usd_goal_real</th>\n",
       "      <td>usd_goal_real</td>\n",
       "      <td>0.0</td>\n",
       "    </tr>\n",
       "  </tbody>\n",
       "</table>\n",
       "</div>"
      ],
      "text/plain": [
       "                       column_name  percent_missing\n",
       "usd pledged            usd pledged              1.0\n",
       "ID                              ID              0.0\n",
       "name                          name              0.0\n",
       "category                  category              0.0\n",
       "main_category        main_category              0.0\n",
       "currency                  currency              0.0\n",
       "deadline                  deadline              0.0\n",
       "goal                          goal              0.0\n",
       "launched                  launched              0.0\n",
       "pledged                    pledged              0.0\n",
       "state                        state              0.0\n",
       "backers                    backers              0.0\n",
       "country                    country              0.0\n",
       "usd_pledged_real  usd_pledged_real              0.0\n",
       "usd_goal_real        usd_goal_real              0.0"
      ]
     },
     "execution_count": 11,
     "metadata": {},
     "output_type": "execute_result"
    }
   ],
   "source": [
    "# % of missing values in each feature\n",
    "percent_missing = (df.isnull().sum()*100/(len(df))).round(2)\n",
    "percent_missing_df = pd.DataFrame({'column_name': df.columns, 'percent_missing': percent_missing})\n",
    "percent_missing_df.sort_values('percent_missing', ascending=False)"
   ]
  },
  {
   "cell_type": "code",
   "execution_count": 12,
   "id": "6c3ab275",
   "metadata": {},
   "outputs": [
    {
     "data": {
      "text/plain": [
       "0"
      ]
     },
     "execution_count": 12,
     "metadata": {},
     "output_type": "execute_result"
    }
   ],
   "source": [
    "#Check for duplicate rows\n",
    "df.duplicated().sum()"
   ]
  },
  {
   "cell_type": "code",
   "execution_count": 13,
   "id": "914ac916",
   "metadata": {},
   "outputs": [],
   "source": [
    "#Converting dtype of deadline and launch date to datetime\n",
    "df['deadline'] = df['deadline'].apply(pd.to_datetime)\n",
    "df['launched'] = df['launched'].apply(pd.to_datetime)\n",
    "\n",
    "#Creating a new feature - duration - for the duration of project\n",
    "df['duration'] = df['deadline']-df['launched']\n",
    "df['duration'] = df['duration'].dt.days"
   ]
  },
  {
   "cell_type": "code",
   "execution_count": 14,
   "id": "a08df05e",
   "metadata": {},
   "outputs": [],
   "source": [
    "#Mapping countries and replacing 'N,0\"' according to currency\n",
    "country = {'USD':'US', 'AUD':'AU', 'CAD':'CA', 'GBP':'GB', 'EUR':'DE', 'SEK':'SE', 'DKK':'DK', 'NZD':'NZ', 'NOK':'NO', 'CHF':'CH'}\n",
    "invalid = df[df['country'] == 'N,0\"']\n",
    "invalid['country'] = invalid['currency'].map(country)\n",
    "\n",
    "#Placing it in original data\n",
    "invalid_country = invalid['country'].iloc[:].values\n",
    "j=0\n",
    "for i in invalid.index:\n",
    "    df['country'].iloc[i] =invalid_country[j]\n",
    "    j=j+1"
   ]
  },
  {
   "cell_type": "code",
   "execution_count": 15,
   "id": "7869b7d0",
   "metadata": {},
   "outputs": [],
   "source": [
    "#Because the ID column has unique values, we can set it as index\n",
    "df = df.set_index('ID')"
   ]
  },
  {
   "cell_type": "code",
   "execution_count": 16,
   "id": "2f9f2b0c",
   "metadata": {},
   "outputs": [],
   "source": [
    "#Merging canceled and suspended state\n",
    "df['state'].replace(to_replace='suspended', value='canceled', inplace=True)"
   ]
  },
  {
   "cell_type": "code",
   "execution_count": 17,
   "id": "4ed147ed",
   "metadata": {},
   "outputs": [
    {
     "data": {
      "text/html": [
       "<div>\n",
       "<style scoped>\n",
       "    .dataframe tbody tr th:only-of-type {\n",
       "        vertical-align: middle;\n",
       "    }\n",
       "\n",
       "    .dataframe tbody tr th {\n",
       "        vertical-align: top;\n",
       "    }\n",
       "\n",
       "    .dataframe thead th {\n",
       "        text-align: right;\n",
       "    }\n",
       "</style>\n",
       "<table border=\"1\" class=\"dataframe\">\n",
       "  <thead>\n",
       "    <tr style=\"text-align: right;\">\n",
       "      <th></th>\n",
       "      <th>name</th>\n",
       "      <th>category</th>\n",
       "      <th>main_category</th>\n",
       "      <th>currency</th>\n",
       "      <th>deadline</th>\n",
       "      <th>goal</th>\n",
       "      <th>launched</th>\n",
       "      <th>pledged</th>\n",
       "      <th>state</th>\n",
       "      <th>backers</th>\n",
       "      <th>country</th>\n",
       "      <th>usd pledged</th>\n",
       "      <th>usd_pledged_real</th>\n",
       "      <th>usd_goal_real</th>\n",
       "      <th>duration</th>\n",
       "    </tr>\n",
       "    <tr>\n",
       "      <th>ID</th>\n",
       "      <th></th>\n",
       "      <th></th>\n",
       "      <th></th>\n",
       "      <th></th>\n",
       "      <th></th>\n",
       "      <th></th>\n",
       "      <th></th>\n",
       "      <th></th>\n",
       "      <th></th>\n",
       "      <th></th>\n",
       "      <th></th>\n",
       "      <th></th>\n",
       "      <th></th>\n",
       "      <th></th>\n",
       "      <th></th>\n",
       "    </tr>\n",
       "  </thead>\n",
       "  <tbody>\n",
       "    <tr>\n",
       "      <th>1000002330</th>\n",
       "      <td>The Songs of Adelaide &amp; Abullah</td>\n",
       "      <td>Poetry</td>\n",
       "      <td>Publishing</td>\n",
       "      <td>GBP</td>\n",
       "      <td>2015-10-09</td>\n",
       "      <td>1000.0</td>\n",
       "      <td>2015-08-11 12:12:28</td>\n",
       "      <td>0.0</td>\n",
       "      <td>failed</td>\n",
       "      <td>0</td>\n",
       "      <td>GB</td>\n",
       "      <td>0.0</td>\n",
       "      <td>0.0</td>\n",
       "      <td>1533.95</td>\n",
       "      <td>58</td>\n",
       "    </tr>\n",
       "    <tr>\n",
       "      <th>1000003930</th>\n",
       "      <td>Greeting From Earth: ZGAC Arts Capsule For ET</td>\n",
       "      <td>Narrative Film</td>\n",
       "      <td>Film &amp; Video</td>\n",
       "      <td>USD</td>\n",
       "      <td>2017-11-01</td>\n",
       "      <td>30000.0</td>\n",
       "      <td>2017-09-02 04:43:57</td>\n",
       "      <td>2421.0</td>\n",
       "      <td>failed</td>\n",
       "      <td>15</td>\n",
       "      <td>US</td>\n",
       "      <td>100.0</td>\n",
       "      <td>2421.0</td>\n",
       "      <td>30000.00</td>\n",
       "      <td>59</td>\n",
       "    </tr>\n",
       "    <tr>\n",
       "      <th>1000004038</th>\n",
       "      <td>Where is Hank?</td>\n",
       "      <td>Narrative Film</td>\n",
       "      <td>Film &amp; Video</td>\n",
       "      <td>USD</td>\n",
       "      <td>2013-02-26</td>\n",
       "      <td>45000.0</td>\n",
       "      <td>2013-01-12 00:20:50</td>\n",
       "      <td>220.0</td>\n",
       "      <td>failed</td>\n",
       "      <td>3</td>\n",
       "      <td>US</td>\n",
       "      <td>220.0</td>\n",
       "      <td>220.0</td>\n",
       "      <td>45000.00</td>\n",
       "      <td>44</td>\n",
       "    </tr>\n",
       "    <tr>\n",
       "      <th>1000007540</th>\n",
       "      <td>ToshiCapital Rekordz Needs Help to Complete Album</td>\n",
       "      <td>Music</td>\n",
       "      <td>Music</td>\n",
       "      <td>USD</td>\n",
       "      <td>2012-04-16</td>\n",
       "      <td>5000.0</td>\n",
       "      <td>2012-03-17 03:24:11</td>\n",
       "      <td>1.0</td>\n",
       "      <td>failed</td>\n",
       "      <td>1</td>\n",
       "      <td>US</td>\n",
       "      <td>1.0</td>\n",
       "      <td>1.0</td>\n",
       "      <td>5000.00</td>\n",
       "      <td>29</td>\n",
       "    </tr>\n",
       "    <tr>\n",
       "      <th>1000011046</th>\n",
       "      <td>Community Film Project: The Art of Neighborhoo...</td>\n",
       "      <td>Film &amp; Video</td>\n",
       "      <td>Film &amp; Video</td>\n",
       "      <td>USD</td>\n",
       "      <td>2015-08-29</td>\n",
       "      <td>19500.0</td>\n",
       "      <td>2015-07-04 08:35:03</td>\n",
       "      <td>1283.0</td>\n",
       "      <td>canceled</td>\n",
       "      <td>14</td>\n",
       "      <td>US</td>\n",
       "      <td>1283.0</td>\n",
       "      <td>1283.0</td>\n",
       "      <td>19500.00</td>\n",
       "      <td>55</td>\n",
       "    </tr>\n",
       "  </tbody>\n",
       "</table>\n",
       "</div>"
      ],
      "text/plain": [
       "                                                         name        category  \\\n",
       "ID                                                                              \n",
       "1000002330                    The Songs of Adelaide & Abullah          Poetry   \n",
       "1000003930      Greeting From Earth: ZGAC Arts Capsule For ET  Narrative Film   \n",
       "1000004038                                     Where is Hank?  Narrative Film   \n",
       "1000007540  ToshiCapital Rekordz Needs Help to Complete Album           Music   \n",
       "1000011046  Community Film Project: The Art of Neighborhoo...    Film & Video   \n",
       "\n",
       "           main_category currency   deadline     goal            launched  \\\n",
       "ID                                                                          \n",
       "1000002330    Publishing      GBP 2015-10-09   1000.0 2015-08-11 12:12:28   \n",
       "1000003930  Film & Video      USD 2017-11-01  30000.0 2017-09-02 04:43:57   \n",
       "1000004038  Film & Video      USD 2013-02-26  45000.0 2013-01-12 00:20:50   \n",
       "1000007540         Music      USD 2012-04-16   5000.0 2012-03-17 03:24:11   \n",
       "1000011046  Film & Video      USD 2015-08-29  19500.0 2015-07-04 08:35:03   \n",
       "\n",
       "            pledged     state  backers country  usd pledged  usd_pledged_real  \\\n",
       "ID                                                                              \n",
       "1000002330      0.0    failed        0      GB          0.0               0.0   \n",
       "1000003930   2421.0    failed       15      US        100.0            2421.0   \n",
       "1000004038    220.0    failed        3      US        220.0             220.0   \n",
       "1000007540      1.0    failed        1      US          1.0               1.0   \n",
       "1000011046   1283.0  canceled       14      US       1283.0            1283.0   \n",
       "\n",
       "            usd_goal_real  duration  \n",
       "ID                                   \n",
       "1000002330        1533.95        58  \n",
       "1000003930       30000.00        59  \n",
       "1000004038       45000.00        44  \n",
       "1000007540        5000.00        29  \n",
       "1000011046       19500.00        55  "
      ]
     },
     "execution_count": 17,
     "metadata": {},
     "output_type": "execute_result"
    }
   ],
   "source": [
    "#Checking the dataset before starting with EDA\n",
    "df.head()"
   ]
  },
  {
   "cell_type": "markdown",
   "id": "a31b81a2",
   "metadata": {},
   "source": [
    "# Exploratory Data Analysis"
   ]
  },
  {
   "cell_type": "code",
   "execution_count": 18,
   "id": "3d341a68",
   "metadata": {
    "scrolled": true
   },
   "outputs": [
    {
     "data": {
      "text/plain": [
       "Text(0.5, 1.0, 'No. of Projects by their state')"
      ]
     },
     "execution_count": 18,
     "metadata": {},
     "output_type": "execute_result"
    },
    {
     "data": {
      "image/png": "[encoded data removed]",
      "text/plain": [
       "<Figure size 432x288 with 1 Axes>"
      ]
     },
     "metadata": {
      "needs_background": "light"
     },
     "output_type": "display_data"
    }
   ],
   "source": [
    "#State graph\n",
    "sns.countplot(df['state'], order=df.state.value_counts().index)\n",
    "plt.title('No. of Projects by their state')"
   ]
  },
  {
   "cell_type": "markdown",
   "id": "13276358",
   "metadata": {},
   "source": [
    "- Only **one-third(>33%)** of the projects accomplish their goals.\n",
    "- More than **50%** of kickstarter projects gets failed.\n",
    "- Nearly **10%** project gets canceled."
   ]
  },
  {
   "cell_type": "code",
   "execution_count": 19,
   "id": "bba0d6cb",
   "metadata": {},
   "outputs": [],
   "source": [
    "#Creating a feature with position of only successful and failed projects\n",
    "df['state_two'] = df['state'].loc[df['state'].isin(['successful','failed'])]"
   ]
  },
  {
   "cell_type": "code",
   "execution_count": 20,
   "id": "8b51162d",
   "metadata": {},
   "outputs": [
    {
     "data": {
      "text/plain": [
       "Text(0.5, 1.0, 'No. of Projects by Category')"
      ]
     },
     "execution_count": 20,
     "metadata": {},
     "output_type": "execute_result"
    },
    {
     "data": {
      "image/png": "[encoded data removed]",
      "text/plain": [
       "<Figure size 864x432 with 1 Axes>"
      ]
     },
     "metadata": {
      "needs_background": "light"
     },
     "output_type": "display_data"
    }
   ],
   "source": [
    "#Plotting the category column\n",
    "plt.figure(figsize=(12,6))\n",
    "sns.countplot(y=df['category'], data=df, order=df.category.value_counts().iloc[:20].index)\n",
    "plt.title('No. of Projects by Category')"
   ]
  },
  {
   "cell_type": "markdown",
   "id": "72363243",
   "metadata": {},
   "source": [
    "- There are total 159 categories in categories feature.\n",
    "- This are top 20 categories by kickstart projects.\n",
    "- **Product Design** is the most popular category in terms of raising fund."
   ]
  },
  {
   "cell_type": "code",
   "execution_count": 21,
   "id": "84e49671",
   "metadata": {
    "scrolled": false
   },
   "outputs": [
    {
     "data": {
      "text/plain": [
       "Text(0.5, 1.0, 'Successful and Failed Projects by Category')"
      ]
     },
     "execution_count": 21,
     "metadata": {},
     "output_type": "execute_result"
    },
    {
     "data": {
      "image/png": "[encoded data removed]",
      "text/plain": [
       "<Figure size 432x432 with 1 Axes>"
      ]
     },
     "metadata": {
      "needs_background": "light"
     },
     "output_type": "display_data"
    }
   ],
   "source": [
    "#Plotting the category column with state with top 10 categories\n",
    "plt.figure(figsize=(6,6))\n",
    "sns.countplot(y=df['category'], data=df, hue=df['state_two'], order=df.category.value_counts().iloc[:10].index)\n",
    "plt.title('Successful and Failed Projects by Category')"
   ]
  },
  {
   "cell_type": "markdown",
   "id": "58c8b89e",
   "metadata": {},
   "source": [
    "- Most of the categories have more failure rate in comparison to success.\n",
    "- **Music**, **Tabeletop Games** and **Shorts** have better success rate in themselves than other categories in category."
   ]
  },
  {
   "cell_type": "code",
   "execution_count": 22,
   "id": "792eebb0",
   "metadata": {},
   "outputs": [
    {
     "data": {
      "text/plain": [
       "Text(0.5, 1.0, 'No. of Projects by Main Category')"
      ]
     },
     "execution_count": 22,
     "metadata": {},
     "output_type": "execute_result"
    },
    {
     "data": {
      "image/png": "[encoded data removed]",
      "text/plain": [
       "<Figure size 864x432 with 1 Axes>"
      ]
     },
     "metadata": {
      "needs_background": "light"
     },
     "output_type": "display_data"
    }
   ],
   "source": [
    "#Plotting the main category column\n",
    "plt.figure(figsize=(12,6))\n",
    "sns.countplot(y=df['main_category'], data=df, order=df.main_category.value_counts().index)\n",
    "plt.title('No. of Projects by Main Category')"
   ]
  },
  {
   "cell_type": "markdown",
   "id": "87510799",
   "metadata": {},
   "source": [
    "- There are total 15 categories in main category feature.\n",
    "- **Film & Video** is the most popular category in main category. **(16.79%)**"
   ]
  },
  {
   "cell_type": "code",
   "execution_count": 23,
   "id": "f3e0f15e",
   "metadata": {},
   "outputs": [
    {
     "data": {
      "text/plain": [
       "Text(0.5, 1.0, 'Successful & Failed Projects by Main Category')"
      ]
     },
     "execution_count": 23,
     "metadata": {},
     "output_type": "execute_result"
    },
    {
     "data": {
      "image/png": "[encoded data removed]",
      "text/plain": [
       "<Figure size 864x432 with 1 Axes>"
      ]
     },
     "metadata": {
      "needs_background": "light"
     },
     "output_type": "display_data"
    }
   ],
   "source": [
    "#Plotting the main category column by state\n",
    "plt.figure(figsize=(12,6))\n",
    "sns.countplot(y=df['main_category'], data=df, hue=df['state_two'], order=df.main_category.value_counts().index)\n",
    "plt.title('Successful & Failed Projects by Main Category')"
   ]
  },
  {
   "cell_type": "markdown",
   "id": "c93f245c",
   "metadata": {},
   "source": [
    "- Most of the categories have more failure rate in comparison to success.\n",
    "- **Music**, **Theater**, **Comics** and **Dance** have better success rate in themselves than other category in main categories."
   ]
  },
  {
   "cell_type": "code",
   "execution_count": 24,
   "id": "9808b1b3",
   "metadata": {
    "scrolled": false
   },
   "outputs": [
    {
     "data": {
      "text/plain": [
       "Text(0.5, 1.0, 'No. of Projects by Currency')"
      ]
     },
     "execution_count": 24,
     "metadata": {},
     "output_type": "execute_result"
    },
    {
     "data": {
      "image/png": "[encoded data removed]",
      "text/plain": [
       "<Figure size 576x432 with 1 Axes>"
      ]
     },
     "metadata": {
      "needs_background": "light"
     },
     "output_type": "display_data"
    }
   ],
   "source": [
    "#Plotting the currency column\n",
    "plt.figure(figsize=(8,6))\n",
    "sns.countplot(df['currency'], order=df.currency.value_counts().index)\n",
    "plt.title('No. of Projects by Currency')"
   ]
  },
  {
   "cell_type": "markdown",
   "id": "fefc7c9b",
   "metadata": {},
   "source": [
    "- **USD**, i.e., US Dollar, is the most popular currency for raising funds.**(78%)**\n",
    "- After USD, **GBP** and **EUR** are the most prevailing currency.(Nearly 9% and 4% respectively)"
   ]
  },
  {
   "cell_type": "code",
   "execution_count": 25,
   "id": "97c81a11",
   "metadata": {
    "scrolled": false
   },
   "outputs": [
    {
     "data": {
      "text/plain": [
       "Text(0.5, 1.0, 'No. of Projects by Country')"
      ]
     },
     "execution_count": 25,
     "metadata": {},
     "output_type": "execute_result"
    },
    {
     "data": {
      "image/png": "[encoded data removed]",
      "text/plain": [
       "<Figure size 576x432 with 1 Axes>"
      ]
     },
     "metadata": {
      "needs_background": "light"
     },
     "output_type": "display_data"
    }
   ],
   "source": [
    "#Plotting the country feature\n",
    "plt.figure(figsize=(8,6))\n",
    "sns.countplot(df['country'],order=df['country'].value_counts().index)\n",
    "plt.title('No. of Projects by Country')"
   ]
  },
  {
   "cell_type": "markdown",
   "id": "98c9ad43",
   "metadata": {},
   "source": [
    "- Most of the projects are from **US (78%)**, followed by **GB (9.01%)** (Great Britain)."
   ]
  },
  {
   "cell_type": "code",
   "execution_count": 26,
   "id": "0b1214ce",
   "metadata": {},
   "outputs": [],
   "source": [
    "#Dictionary for converting duration in to distinct categories\n",
    "duration_category = {\n",
    "    range(0,15): '0-15',\n",
    "    range(15,30): '15-30',\n",
    "    range(30,45): '30-45',\n",
    "    range(45,60): '45-60',\n",
    "    range(60,16739): '60+'\n",
    "}"
   ]
  },
  {
   "cell_type": "code",
   "execution_count": 27,
   "id": "4f7ac0f7",
   "metadata": {},
   "outputs": [
    {
     "data": {
      "text/plain": [
       "Text(0.5, 1.0, 'Duration')"
      ]
     },
     "execution_count": 27,
     "metadata": {},
     "output_type": "execute_result"
    },
    {
     "data": {
      "image/png": "[encoded data removed]",
      "text/plain": [
       "<Figure size 432x288 with 1 Axes>"
      ]
     },
     "metadata": {
      "needs_background": "light"
     },
     "output_type": "display_data"
    }
   ],
   "source": [
    "#Categorising using above dictionary\n",
    "duration = df['duration'].apply(lambda x: next((v for k, v in duration_category.items() if x in k), 0))\n",
    "duration = duration.sort_values()\n",
    "\n",
    "#Plotting Duration\n",
    "sns.countplot(y=duration)\n",
    "plt.title('Duration')"
   ]
  },
  {
   "cell_type": "markdown",
   "id": "1ce5207e",
   "metadata": {},
   "source": [
    "- Most of the projects have duration of **15-30** days.**(58.04%)**\n",
    "- Followed by **30-45** and **45-60** days, respectively.**(22.40%)** & **(13.11%)**"
   ]
  },
  {
   "cell_type": "code",
   "execution_count": 28,
   "id": "99e8ab7f",
   "metadata": {},
   "outputs": [],
   "source": [
    "#Dictionary for converting backers in to distinct categories\n",
    "backers_category = {\n",
    "    range(0,1): '0',\n",
    "    range(0,10): '1-10',\n",
    "    range(10,100): '10-100',\n",
    "    range(100,1000): '100-1000',\n",
    "    range(1000,1000000): '1000+'\n",
    "}"
   ]
  },
  {
   "cell_type": "code",
   "execution_count": 29,
   "id": "f0ee108d",
   "metadata": {},
   "outputs": [
    {
     "data": {
      "text/plain": [
       "Text(0.5, 1.0, 'Backers')"
      ]
     },
     "execution_count": 29,
     "metadata": {},
     "output_type": "execute_result"
    },
    {
     "data": {
      "image/png": "[encoded data removed]",
      "text/plain": [
       "<Figure size 432x288 with 1 Axes>"
      ]
     },
     "metadata": {
      "needs_background": "light"
     },
     "output_type": "display_data"
    }
   ],
   "source": [
    "#Categorising backers using above dictionary\n",
    "backers = df['backers'].apply(lambda x: next((v for k, v in backers_category.items() if x in k), 0))\n",
    "backers = backers.sort_values()\n",
    "\n",
    "#Plotting backers\n",
    "sns.countplot(y=backers)\n",
    "plt.title('Backers')"
   ]
  },
  {
   "cell_type": "markdown",
   "id": "bd12baba",
   "metadata": {},
   "source": [
    "- Most of the projects have **10-100 (36.92%)** backers, followed by **1-10 (32.43%)** backers.\n",
    "- Nearly **14.68%** have 0 backers.\n",
    "- Highest No. of backers for a project is: **219382**"
   ]
  },
  {
   "cell_type": "code",
   "execution_count": 30,
   "id": "4e66152d",
   "metadata": {
    "scrolled": true
   },
   "outputs": [
    {
     "data": {
      "text/plain": [
       "Text(0.5, 1.0, 'Successful & Failed Projects by Backers')"
      ]
     },
     "execution_count": 30,
     "metadata": {},
     "output_type": "execute_result"
    },
    {
     "data": {
      "image/png": "[encoded data removed]",
      "text/plain": [
       "<Figure size 432x288 with 1 Axes>"
      ]
     },
     "metadata": {
      "needs_background": "light"
     },
     "output_type": "display_data"
    }
   ],
   "source": [
    "#Plotting backers with state\n",
    "sns.countplot(y=backers, hue = df['state_two'])\n",
    "plt.title('Successful & Failed Projects by Backers')"
   ]
  },
  {
   "cell_type": "markdown",
   "id": "941e1f89",
   "metadata": {},
   "source": [
    "- Most of the projects having backers **less than 10**, are bound to fail.\n",
    "- Success rate increases with no. of backers. (above chart proves this)"
   ]
  },
  {
   "cell_type": "code",
   "execution_count": 31,
   "id": "7c6357b1",
   "metadata": {},
   "outputs": [],
   "source": [
    "#Dictionary for converting usd pledged real in to distinct categories\n",
    "usd_pledged_real_category = {\n",
    "     range(0, 1): '0-1',\n",
    "     range(1, 100): '1-100',\n",
    "     range(100, 1000): '100-1000',\n",
    "     range(1000, 10000): '1000-10000',\n",
    "     range(10000,100000): '10000-100000',\n",
    "     range(100000, 1000000): '100000-1000000',\n",
    "     range(1000000, 100000000): '1000000+'}"
   ]
  },
  {
   "cell_type": "code",
   "execution_count": 32,
   "id": "b7e459c2",
   "metadata": {
    "scrolled": true
   },
   "outputs": [
    {
     "data": {
      "text/plain": [
       "Text(0.5, 1.0, 'Pledged Amount in USD')"
      ]
     },
     "execution_count": 32,
     "metadata": {},
     "output_type": "execute_result"
    },
    {
     "data": {
      "image/png": "[encoded data removed]",
      "text/plain": [
       "<Figure size 432x288 with 1 Axes>"
      ]
     },
     "metadata": {
      "needs_background": "light"
     },
     "output_type": "display_data"
    }
   ],
   "source": [
    "#Categorising using above dictionary\n",
    "usd_pledged_real_int = df['usd_pledged_real'].astype(int)\n",
    "usd_pledged_real = usd_pledged_real_int.apply(lambda x: next((v for k, v in usd_pledged_real_category.items() if x in k), 0))\n",
    "usd_pledged_real = usd_pledged_real.sort_values()\n",
    "\n",
    "#Plotting pledged in usd real\n",
    "sns.countplot(y=usd_pledged_real)\n",
    "plt.title('Pledged Amount in USD')"
   ]
  },
  {
   "cell_type": "markdown",
   "id": "4e2a4728",
   "metadata": {},
   "source": [
    "- Most of the projects have **1K-10K** as their pledged amount in USD.**(31.21%)**\n",
    "- Very few projects have more than **100K** USD pledged.**(1.31%)**\n",
    "- Some projects have less than **1USD** pledged.**(14.15%)**\n",
    "- Highest Amount pleged for a project is: **20,338,986.27** USD"
   ]
  },
  {
   "cell_type": "code",
   "execution_count": 33,
   "id": "3fe502a6",
   "metadata": {},
   "outputs": [],
   "source": [
    "#Dictionary for converting usd goal real in to distinct categories.\n",
    "goal_category = {range(0, 100): '0-100',\n",
    "     range(100, 1000): '100-1000',\n",
    "     range(1000, 10000): '1000-10000',\n",
    "     range(10000,100000): '10000-100000',\n",
    "     range(100000, 1000000): '100000-1000000',\n",
    "     range(1000000, 1000000000): '1000000+'}"
   ]
  },
  {
   "cell_type": "code",
   "execution_count": 34,
   "id": "cddab5e4",
   "metadata": {
    "scrolled": false
   },
   "outputs": [
    {
     "data": {
      "text/plain": [
       "Text(0.5, 1.0, 'Goal in USD')"
      ]
     },
     "execution_count": 34,
     "metadata": {},
     "output_type": "execute_result"
    },
    {
     "data": {
      "image/png": "[encoded data removed]",
      "text/plain": [
       "<Figure size 432x288 with 1 Axes>"
      ]
     },
     "metadata": {
      "needs_background": "light"
     },
     "output_type": "display_data"
    }
   ],
   "source": [
    "#Categorising using above dictionary\n",
    "goal_int = df['usd_goal_real'].astype(int)\n",
    "goal = goal_int.apply(lambda x: next((v for k, v in goal_category.items() if x in k), 0))\n",
    "goal = goal.sort_values()\n",
    "\n",
    "#Plotting goal in usd\n",
    "sns.countplot(y=goal)\n",
    "plt.title('Goal in USD')"
   ]
  },
  {
   "cell_type": "markdown",
   "id": "3676a6dd",
   "metadata": {},
   "source": [
    "- Most of the project are trying to raise **1K-10K (49.01%)** and **10k-100K (34.08%)**.\n",
    "- Very few projects are trying to raise more than **100K**USD.**(4.27%)**\n",
    "- Some projects are trying to raise less than **100**USD.**(1.16%)**\n",
    "- Highes amount tried to be raised is: **166,361,390.71** USD"
   ]
  },
  {
   "cell_type": "markdown",
   "id": "1b7ded99",
   "metadata": {},
   "source": [
    "# PreProcessing"
   ]
  },
  {
   "cell_type": "code",
   "execution_count": 35,
   "id": "2d096fba",
   "metadata": {},
   "outputs": [
    {
     "data": {
      "text/plain": [
       "array(['failed', 'successful'], dtype=object)"
      ]
     },
     "execution_count": 35,
     "metadata": {},
     "output_type": "execute_result"
    }
   ],
   "source": [
    "#Using rows with Either Successful or Failed States\n",
    "df.dropna(inplace=True)\n",
    "df['state'].unique()"
   ]
  },
  {
   "cell_type": "code",
   "execution_count": 36,
   "id": "9cc2f750",
   "metadata": {},
   "outputs": [],
   "source": [
    "#Letter count in name feature\n",
    "df['name_letter'] = df['name'].str.len()\n",
    "\n",
    "#Word count in name feature\n",
    "df['name_word'] = df['name'].apply(lambda x: len(str(x).split(' ')))\n",
    "\n",
    "#Question mark in feature\n",
    "df['name_question'] = (df['name'].str[-1]=='?').astype(int)\n",
    "\n",
    "#Uppercase or not\n",
    "df['name_upper'] = df['name'].str.isupper().astype(float)"
   ]
  },
  {
   "cell_type": "code",
   "execution_count": 37,
   "id": "b936414e",
   "metadata": {},
   "outputs": [],
   "source": [
    "#Creating new features using launched column\n",
    "df['launched_year'] = df['launched'].dt.year\n",
    "df['launched_quarter'] = df['launched'].dt.quarter\n",
    "df['launched_month'] = df['launched'].dt.month\n",
    "df['launched_week'] = df['launched'].dt.week\n",
    "df['launched_date'] = df['launched'].dt.day\n",
    "df['launched_day'] = df['launched'].dt.dayofweek"
   ]
  },
  {
   "cell_type": "code",
   "execution_count": 38,
   "id": "e7fa9e5b",
   "metadata": {
    "scrolled": true
   },
   "outputs": [],
   "source": [
    "#Finding the competition for a project in their category by year\n",
    "competition_year = df.groupby(['category', 'launched_year']).count()\n",
    "competition_year = competition_year[['name']]\n",
    "competition_year.reset_index(inplace=True)\n",
    "\n",
    "#Finding the competition for a project in their category by quarter\n",
    "competition_quarter = df.groupby(['category', 'launched_year', 'launched_quarter']).count()\n",
    "competition_quarter = competition_quarter[['name']]\n",
    "competition_quarter.reset_index(inplace=True)\n",
    "\n",
    "#Finding the competition for a project in their category by month\n",
    "competition_month = df.groupby(['category', 'launched_year', 'launched_month']).count()\n",
    "competition_month = competition_month[['name']]\n",
    "competition_month.reset_index(inplace=True)"
   ]
  },
  {
   "cell_type": "code",
   "execution_count": 39,
   "id": "788ec318",
   "metadata": {},
   "outputs": [],
   "source": [
    "#Renaming the columns \n",
    "year=['category', 'launched_year','competition_year']\n",
    "competition_year.columns=year\n",
    "\n",
    "quarter=['category', 'launched_year', 'launched_quarter','competition_quarter']\n",
    "competition_quarter.columns=quarter\n",
    "\n",
    "month=['category', 'launched_year', 'launched_month','competition_month']\n",
    "competition_month.columns=month"
   ]
  },
  {
   "cell_type": "code",
   "execution_count": 40,
   "id": "dedb79f6",
   "metadata": {},
   "outputs": [],
   "source": [
    "#Merging the df to original data\n",
    "df = pd.merge(df, competition_year, on = ['category', 'launched_year'], how = 'left')\n",
    "df = pd.merge(df, competition_quarter, on = ['category', 'launched_year', 'launched_quarter'], how = 'left')\n",
    "df = pd.merge(df, competition_month, on =['category', 'launched_year', 'launched_month'], how = 'left')"
   ]
  },
  {
   "cell_type": "code",
   "execution_count": 41,
   "id": "b7ec6b9c",
   "metadata": {},
   "outputs": [],
   "source": [
    "#Dropping unnecessary columns\n",
    "df.drop(columns=['name', 'deadline', 'launched','state_two', 'country'], inplace=True)"
   ]
  },
  {
   "cell_type": "code",
   "execution_count": 42,
   "id": "3a60a678",
   "metadata": {},
   "outputs": [],
   "source": [
    "#Dropping columns that won't be available at the start of project\n",
    "df.drop(columns=['pledged', 'usd pledged', 'usd_pledged_real'], inplace=True)"
   ]
  },
  {
   "cell_type": "code",
   "execution_count": 43,
   "id": "e07f2849",
   "metadata": {},
   "outputs": [],
   "source": [
    "#Because USD dominates the dataset we will convert into a 1 if USD or 0 if not.\n",
    "df['currency'] = df['currency'] == 'USD'"
   ]
  },
  {
   "cell_type": "code",
   "execution_count": 44,
   "id": "e2634683",
   "metadata": {},
   "outputs": [
    {
     "data": {
      "text/html": [
       "<div>\n",
       "<style scoped>\n",
       "    .dataframe tbody tr th:only-of-type {\n",
       "        vertical-align: middle;\n",
       "    }\n",
       "\n",
       "    .dataframe tbody tr th {\n",
       "        vertical-align: top;\n",
       "    }\n",
       "\n",
       "    .dataframe thead th {\n",
       "        text-align: right;\n",
       "    }\n",
       "</style>\n",
       "<table border=\"1\" class=\"dataframe\">\n",
       "  <thead>\n",
       "    <tr style=\"text-align: right;\">\n",
       "      <th></th>\n",
       "      <th>category</th>\n",
       "      <th>main_category</th>\n",
       "      <th>currency</th>\n",
       "      <th>goal</th>\n",
       "      <th>state</th>\n",
       "      <th>backers</th>\n",
       "      <th>usd_goal_real</th>\n",
       "      <th>duration</th>\n",
       "      <th>name_letter</th>\n",
       "      <th>name_word</th>\n",
       "      <th>...</th>\n",
       "      <th>name_upper</th>\n",
       "      <th>launched_year</th>\n",
       "      <th>launched_quarter</th>\n",
       "      <th>launched_month</th>\n",
       "      <th>launched_week</th>\n",
       "      <th>launched_date</th>\n",
       "      <th>launched_day</th>\n",
       "      <th>competition_year</th>\n",
       "      <th>competition_quarter</th>\n",
       "      <th>competition_month</th>\n",
       "    </tr>\n",
       "  </thead>\n",
       "  <tbody>\n",
       "    <tr>\n",
       "      <th>0</th>\n",
       "      <td>88</td>\n",
       "      <td>12</td>\n",
       "      <td>False</td>\n",
       "      <td>1000.0</td>\n",
       "      <td>failed</td>\n",
       "      <td>0</td>\n",
       "      <td>1533.95</td>\n",
       "      <td>58</td>\n",
       "      <td>31</td>\n",
       "      <td>6</td>\n",
       "      <td>...</td>\n",
       "      <td>0.0</td>\n",
       "      <td>2015</td>\n",
       "      <td>3</td>\n",
       "      <td>8</td>\n",
       "      <td>33</td>\n",
       "      <td>11</td>\n",
       "      <td>1</td>\n",
       "      <td>3</td>\n",
       "      <td>1</td>\n",
       "      <td>1</td>\n",
       "    </tr>\n",
       "    <tr>\n",
       "      <th>1</th>\n",
       "      <td>76</td>\n",
       "      <td>6</td>\n",
       "      <td>True</td>\n",
       "      <td>30000.0</td>\n",
       "      <td>failed</td>\n",
       "      <td>15</td>\n",
       "      <td>30000.00</td>\n",
       "      <td>59</td>\n",
       "      <td>45</td>\n",
       "      <td>8</td>\n",
       "      <td>...</td>\n",
       "      <td>0.0</td>\n",
       "      <td>2017</td>\n",
       "      <td>3</td>\n",
       "      <td>9</td>\n",
       "      <td>35</td>\n",
       "      <td>2</td>\n",
       "      <td>5</td>\n",
       "      <td>1</td>\n",
       "      <td>1</td>\n",
       "      <td>1</td>\n",
       "    </tr>\n",
       "    <tr>\n",
       "      <th>2</th>\n",
       "      <td>76</td>\n",
       "      <td>6</td>\n",
       "      <td>True</td>\n",
       "      <td>45000.0</td>\n",
       "      <td>failed</td>\n",
       "      <td>3</td>\n",
       "      <td>45000.00</td>\n",
       "      <td>44</td>\n",
       "      <td>14</td>\n",
       "      <td>3</td>\n",
       "      <td>...</td>\n",
       "      <td>0.0</td>\n",
       "      <td>2013</td>\n",
       "      <td>1</td>\n",
       "      <td>1</td>\n",
       "      <td>2</td>\n",
       "      <td>12</td>\n",
       "      <td>5</td>\n",
       "      <td>4</td>\n",
       "      <td>3</td>\n",
       "      <td>3</td>\n",
       "    </tr>\n",
       "    <tr>\n",
       "      <th>3</th>\n",
       "      <td>74</td>\n",
       "      <td>10</td>\n",
       "      <td>True</td>\n",
       "      <td>5000.0</td>\n",
       "      <td>failed</td>\n",
       "      <td>1</td>\n",
       "      <td>5000.00</td>\n",
       "      <td>29</td>\n",
       "      <td>49</td>\n",
       "      <td>7</td>\n",
       "      <td>...</td>\n",
       "      <td>0.0</td>\n",
       "      <td>2012</td>\n",
       "      <td>1</td>\n",
       "      <td>3</td>\n",
       "      <td>11</td>\n",
       "      <td>17</td>\n",
       "      <td>5</td>\n",
       "      <td>11</td>\n",
       "      <td>4</td>\n",
       "      <td>3</td>\n",
       "    </tr>\n",
       "    <tr>\n",
       "      <th>4</th>\n",
       "      <td>99</td>\n",
       "      <td>7</td>\n",
       "      <td>True</td>\n",
       "      <td>50000.0</td>\n",
       "      <td>successful</td>\n",
       "      <td>224</td>\n",
       "      <td>50000.00</td>\n",
       "      <td>34</td>\n",
       "      <td>20</td>\n",
       "      <td>3</td>\n",
       "      <td>...</td>\n",
       "      <td>0.0</td>\n",
       "      <td>2016</td>\n",
       "      <td>1</td>\n",
       "      <td>2</td>\n",
       "      <td>8</td>\n",
       "      <td>26</td>\n",
       "      <td>4</td>\n",
       "      <td>4</td>\n",
       "      <td>2</td>\n",
       "      <td>2</td>\n",
       "    </tr>\n",
       "  </tbody>\n",
       "</table>\n",
       "<p>5 rows × 21 columns</p>\n",
       "</div>"
      ],
      "text/plain": [
       "   category  main_category  currency     goal       state  backers  \\\n",
       "0        88             12     False   1000.0      failed        0   \n",
       "1        76              6      True  30000.0      failed       15   \n",
       "2        76              6      True  45000.0      failed        3   \n",
       "3        74             10      True   5000.0      failed        1   \n",
       "4        99              7      True  50000.0  successful      224   \n",
       "\n",
       "   usd_goal_real  duration  name_letter  name_word  ...  name_upper  \\\n",
       "0        1533.95        58           31          6  ...         0.0   \n",
       "1       30000.00        59           45          8  ...         0.0   \n",
       "2       45000.00        44           14          3  ...         0.0   \n",
       "3        5000.00        29           49          7  ...         0.0   \n",
       "4       50000.00        34           20          3  ...         0.0   \n",
       "\n",
       "   launched_year  launched_quarter  launched_month  launched_week  \\\n",
       "0           2015                 3               8             33   \n",
       "1           2017                 3               9             35   \n",
       "2           2013                 1               1              2   \n",
       "3           2012                 1               3             11   \n",
       "4           2016                 1               2              8   \n",
       "\n",
       "   launched_date  launched_day  competition_year  competition_quarter  \\\n",
       "0             11             1                 3                    1   \n",
       "1              2             5                 1                    1   \n",
       "2             12             5                 4                    3   \n",
       "3             17             5                11                    4   \n",
       "4             26             4                 4                    2   \n",
       "\n",
       "   competition_month  \n",
       "0                  1  \n",
       "1                  1  \n",
       "2                  3  \n",
       "3                  3  \n",
       "4                  2  \n",
       "\n",
       "[5 rows x 21 columns]"
      ]
     },
     "execution_count": 44,
     "metadata": {},
     "output_type": "execute_result"
    }
   ],
   "source": [
    "#Label Encoding\n",
    "from sklearn.preprocessing import LabelEncoder\n",
    "le = LabelEncoder()\n",
    "df['category'] = le.fit_transform(df['category'])\n",
    "df['main_category'] = le.fit_transform(df['main_category'])\n",
    "df.head()"
   ]
  },
  {
   "cell_type": "code",
   "execution_count": 45,
   "id": "dab80c5c",
   "metadata": {},
   "outputs": [],
   "source": [
    "X = df.drop(columns='state')\n",
    "y = df['state']"
   ]
  },
  {
   "cell_type": "code",
   "execution_count": 46,
   "id": "f4b51883",
   "metadata": {},
   "outputs": [],
   "source": [
    "#Splitting the data into Training and Test Set\n",
    "from sklearn.model_selection import train_test_split \n",
    "X_train, X_test, y_train, y_test = train_test_split(X, y, test_size=0.32, random_state=0)"
   ]
  },
  {
   "cell_type": "code",
   "execution_count": 47,
   "id": "b367ec0f",
   "metadata": {},
   "outputs": [],
   "source": [
    "#Converting df to array\n",
    "X_train = X_train.values\n",
    "X_test = X_test.values\n",
    "y_train = y_train.values\n",
    "y_test = y_test.values"
   ]
  },
  {
   "cell_type": "code",
   "execution_count": 48,
   "id": "a4af8fda",
   "metadata": {},
   "outputs": [],
   "source": [
    "#Changing state array to bool\n",
    "y_train = y_train == 'successful'\n",
    "y_test = y_test == 'successful'"
   ]
  },
  {
   "cell_type": "markdown",
   "id": "270b7c61",
   "metadata": {},
   "source": [
    "# Training the model"
   ]
  },
  {
   "cell_type": "code",
   "execution_count": 49,
   "id": "8030c573",
   "metadata": {},
   "outputs": [],
   "source": [
    "# Importing SVC module and classification metrics\n",
    "from sklearn.svm import SVC\n",
    "from sklearn.metrics import f1_score, precision_score, recall_score, confusion_matrix, accuracy_score"
   ]
  },
  {
   "cell_type": "code",
   "execution_count": 50,
   "id": "c9cd8a7e",
   "metadata": {},
   "outputs": [
    {
     "data": {
      "text/plain": [
       "SVC(kernel='linear')"
      ]
     },
     "execution_count": 50,
     "metadata": {},
     "output_type": "execute_result"
    }
   ],
   "source": [
    "#Initialising LR model and fitting with training dataset\n",
    "model = SVC(kernel='linear')\n",
    "model.fit(X_train, y_train)"
   ]
  },
  {
   "cell_type": "code",
   "execution_count": 51,
   "id": "406c1d1f",
   "metadata": {},
   "outputs": [
    {
     "data": {
      "text/plain": [
       "array([ True])"
      ]
     },
     "execution_count": 51,
     "metadata": {},
     "output_type": "execute_result"
    }
   ],
   "source": [
    "#Checking the prediction for our 1st element of test dataset\n",
    "model.predict(X_test[0].reshape(1,-1))"
   ]
  },
  {
   "cell_type": "code",
   "execution_count": 52,
   "id": "1cfa2bd3",
   "metadata": {},
   "outputs": [
    {
     "data": {
      "text/plain": [
       "array([ True, False,  True,  True, False,  True, False, False, False,\n",
       "       False])"
      ]
     },
     "execution_count": 52,
     "metadata": {},
     "output_type": "execute_result"
    }
   ],
   "source": [
    "#Checking the predictions for top 10 rows of test dataset\n",
    "model.predict(X_test[0:10])"
   ]
  },
  {
   "cell_type": "code",
   "execution_count": 53,
   "id": "e06626d5",
   "metadata": {},
   "outputs": [],
   "source": [
    "#Predicting on test dataset with our model\n",
    "predictions = model.predict(X_test)"
   ]
  },
  {
   "cell_type": "code",
   "execution_count": 54,
   "id": "71e5befd",
   "metadata": {},
   "outputs": [
    {
     "name": "stdout",
     "output_type": "stream",
     "text": [
      "0.9052631578947369\n"
     ]
    }
   ],
   "source": [
    "#Score of our model on test data\n",
    "score = model.score(X_test, y_test)\n",
    "print(score)"
   ]
  },
  {
   "cell_type": "code",
   "execution_count": 55,
   "id": "f59fa4a9",
   "metadata": {},
   "outputs": [
    {
     "name": "stdout",
     "output_type": "stream",
     "text": [
      "0.8915662650602411\n"
     ]
    }
   ],
   "source": [
    "#F1 Score\n",
    "print(f1_score(y_test,predictions))"
   ]
  },
  {
   "cell_type": "code",
   "execution_count": 56,
   "id": "d560d10f",
   "metadata": {},
   "outputs": [
    {
     "name": "stdout",
     "output_type": "stream",
     "text": [
      "[[147  17]\n",
      " [ 10 111]]\n"
     ]
    }
   ],
   "source": [
    "#Confusion Matrix\n",
    "cnf = confusion_matrix(y_test,predictions)\n",
    "print(cnf)"
   ]
  },
  {
   "cell_type": "code",
   "execution_count": 57,
   "id": "cd109e10",
   "metadata": {},
   "outputs": [
    {
     "name": "stdout",
     "output_type": "stream",
     "text": [
      "0.8671875\n",
      "0.9173553719008265\n"
     ]
    }
   ],
   "source": [
    "#Precison and Recall\n",
    "print(precision_score(y_test,predictions))\n",
    "print(recall_score(y_test,predictions))"
   ]
  },
  {
   "cell_type": "code",
   "execution_count": 58,
   "id": "070b2a5d",
   "metadata": {},
   "outputs": [
    {
     "name": "stdout",
     "output_type": "stream",
     "text": [
      "Confusion Matrix on Test Data Plot\n"
     ]
    },
    {
     "data": {
      "text/plain": [
       "<AxesSubplot:>"
      ]
     },
     "execution_count": 58,
     "metadata": {},
     "output_type": "execute_result"
    },
    {
     "data": {
      "image/png": "[encoded data removed]",
      "text/plain": [
       "<Figure size 432x288 with 2 Axes>"
      ]
     },
     "metadata": {
      "needs_background": "light"
     },
     "output_type": "display_data"
    }
   ],
   "source": [
    "#Visualising Confusion matrix\n",
    "print(\"Confusion Matrix on Test Data Plot\")\n",
    "sns.heatmap(pd.DataFrame(cnf), annot=True, cmap='YlGnBu')"
   ]
  },
  {
   "cell_type": "code",
   "execution_count": 59,
   "id": "ceb76abd",
   "metadata": {},
   "outputs": [
    {
     "name": "stdout",
     "output_type": "stream",
     "text": [
      "Score:  0.9052631578947369\n",
      "F1_Score:  0.8915662650602411\n",
      "Precision:  0.8671875\n",
      "Recall:  0.9173553719008265\n"
     ]
    }
   ],
   "source": [
    "#Summary of metrics on Logistic Regression model\n",
    "print(\"Score: \",model.score(X_test, y_test))\n",
    "print(\"F1_Score: \",f1_score(y_test, predictions))\n",
    "print(\"Precision: \",precision_score(y_test, predictions))\n",
    "print(\"Recall: \",recall_score(y_test, predictions))"
   ]
  }
 ],
 "metadata": {
  "kernelspec": {
   "display_name": "Python 3 (ipykernel)",
   "language": "python",
   "name": "python3"
  },
  "language_info": {
   "codemirror_mode": {
    "name": "ipython",
    "version": 3
   },
   "file_extension": ".py",
   "mimetype": "text/x-python",
   "name": "python",
   "nbconvert_exporter": "python",
   "pygments_lexer": "ipython3",
   "version": "3.9.5"
  }
 },
 "nbformat": 4,
 "nbformat_minor": 5
}
